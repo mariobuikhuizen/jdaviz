{
 "cells": [
  {
   "cell_type": "markdown",
   "id": "handed-person",
   "metadata": {},
   "source": [
    "# Proof of concept of ImViz requirements using glupyter/bqplot"
   ]
  },
  {
   "cell_type": "markdown",
   "id": "frozen-oracle",
   "metadata": {},
   "source": [
    "We start off by silencing warnings that can happen when loading data as well as deprecation warnings, for clarity:"
   ]
  },
  {
   "cell_type": "code",
   "execution_count": null,
   "id": "handed-chicago",
   "metadata": {},
   "outputs": [],
   "source": [
    "import warnings\n",
    "warnings.simplefilter('ignore')"
   ]
  },
  {
   "cell_type": "markdown",
   "id": "early-schedule",
   "metadata": {},
   "source": [
    "Next we import all the required modules/classes/functions:"
   ]
  },
  {
   "cell_type": "code",
   "execution_count": null,
   "id": "durable-briefs",
   "metadata": {},
   "outputs": [],
   "source": [
    "import numpy as np\n",
    "import matplotlib.pyplot as plt\n",
    "from bqplot import Scatter\n",
    "from jdaviz import ImViz, ImVizTwoPanel\n",
    "from glue.plugins.wcs_autolinking.wcs_autolinking import WCSLink"
   ]
  },
  {
   "cell_type": "markdown",
   "id": "discrete-winning",
   "metadata": {},
   "source": [
    "## Basic features"
   ]
  },
  {
   "cell_type": "markdown",
   "id": "advance-exhibition",
   "metadata": {},
   "source": [
    "We start off by looking at some of the basic features using a single-image viewer jdaviz app:"
   ]
  },
  {
   "cell_type": "code",
   "execution_count": null,
   "id": "covered-bikini",
   "metadata": {
    "scrolled": false
   },
   "outputs": [],
   "source": [
    "imviz = ImViz()\n",
    "imviz.load_data('jw01072001001_01101_00001_nrcb1_cal.fits')\n",
    "\n",
    "viewer = imviz.app.get_viewer('viewer-1')\n",
    "viewer.add_data('jw01072001001_01101_00001_nrcb1_cal[SCI]')\n",
    "viewer.state.show_axes = False\n",
    "viewer.state.layers[0].percentile = 99\n",
    "\n",
    "imviz.app"
   ]
  },
  {
   "cell_type": "markdown",
   "id": "changing-width",
   "metadata": {},
   "source": [
    "Panning and zooming is possible by showing the viewer toolbar and clicking on the '+'-shaped icon, then dragging around in the image and using scrolling to zoom in and out. To change the stretch and colormap, show the **Layer** options accessible through the last icon in the viewer toolbar.\n",
    "\n",
    "We can also change these programmatically, for example the stretch:"
   ]
  },
  {
   "cell_type": "code",
   "execution_count": null,
   "id": "sonic-cuisine",
   "metadata": {},
   "outputs": [],
   "source": [
    "viewer.state.layers[0].stretch = 'sqrt'"
   ]
  },
  {
   "cell_type": "markdown",
   "id": "automatic-engineer",
   "metadata": {},
   "source": [
    "the colormap:"
   ]
  },
  {
   "cell_type": "code",
   "execution_count": null,
   "id": "authorized-liberty",
   "metadata": {},
   "outputs": [],
   "source": [
    "viewer.state.layers[0].cmap = plt.cm.viridis"
   ]
  },
  {
   "cell_type": "markdown",
   "id": "close-picture",
   "metadata": {},
   "source": [
    "the limits via the percentile option:"
   ]
  },
  {
   "cell_type": "code",
   "execution_count": null,
   "id": "compressed-potential",
   "metadata": {},
   "outputs": [],
   "source": [
    "viewer.state.layers[0].percentile = 90"
   ]
  },
  {
   "cell_type": "markdown",
   "id": "intimate-steam",
   "metadata": {},
   "source": [
    "or the limits directly:"
   ]
  },
  {
   "cell_type": "code",
   "execution_count": null,
   "id": "inappropriate-holmes",
   "metadata": {},
   "outputs": [],
   "source": [
    "viewer.state.layers[0].v_min = -10\n",
    "viewer.state.layers[0].v_max = +100"
   ]
  },
  {
   "cell_type": "markdown",
   "id": "patent-christopher",
   "metadata": {},
   "source": [
    "Note also that in the above example there are mouse-over coordinates visible by default."
   ]
  },
  {
   "cell_type": "markdown",
   "id": "infrared-jenny",
   "metadata": {},
   "source": [
    "## WCS Linking\n",
    "\n",
    "Another ImViz requirement is the ability to show two images side by side and lock the field of view even if the WCSes are different. For now we have implemented a simple version of locking which is that every time the user clicks on a position, the field of view in both image viewers is updated to be centred on that position."
   ]
  },
  {
   "cell_type": "markdown",
   "id": "suited-annotation",
   "metadata": {},
   "source": [
    "We set up a 2-panel version of ImViz and load in the two datasets:"
   ]
  },
  {
   "cell_type": "code",
   "execution_count": null,
   "id": "excited-mexico",
   "metadata": {},
   "outputs": [],
   "source": [
    "imviz = ImVizTwoPanel()\n",
    "imviz.load_data('jw01072001001_01101_00001_nrcb1_cal.fits')\n",
    "imviz.load_data('jw01072001001_01101_00005_nrcb1_cal.fits')\n",
    "\n",
    "imviz.app.data_collection.add_link(WCSLink(imviz.app.data_collection['jw01072001001_01101_00001_nrcb1_cal[SCI]'],\n",
    "                                           imviz.app.data_collection['jw01072001001_01101_00005_nrcb1_cal[SCI]'] ))\n",
    "\n",
    "viewer1 = imviz.app.get_viewer('viewer-1')\n",
    "viewer1.add_data('jw01072001001_01101_00001_nrcb1_cal[SCI]')\n",
    "viewer1.state.show_axes = False\n",
    "viewer1.state.layers[0].percentile = 99\n",
    "\n",
    "viewer2 = imviz.app.get_viewer('viewer-2')\n",
    "viewer2.add_data('jw01072001001_01101_00001_nrcb1_cal[SCI]')\n",
    "viewer2.add_data('jw01072001001_01101_00005_nrcb1_cal[SCI]')\n",
    "viewer2.state.show_axes = False\n",
    "viewer2.state.layers[0].visible = False\n",
    "viewer2.state.layers[1].percentile = 99\n",
    "viewer2.state.reference_data = imviz.app.data_collection['jw01072001001_01101_00001_nrcb1_cal[SCI]']\n",
    "\n",
    "imviz.app"
   ]
  },
  {
   "cell_type": "markdown",
   "id": "greenhouse-discipline",
   "metadata": {},
   "source": [
    "Note that above we essentially add an invisible layer to the second image viewer so that we can select this dataset as a reference dataset in both image viewers, which means that even if the images have different WCS, the field of views will be identical."
   ]
  },
  {
   "cell_type": "markdown",
   "id": "second-fabric",
   "metadata": {},
   "source": [
    "If you click on the icon with the two rings (5th from the left in the toolbar) then click anywhere in the image in which you activated the tool the images will both be centred on that position."
   ]
  },
  {
   "cell_type": "markdown",
   "id": "muslim-politics",
   "metadata": {},
   "source": [
    "We can also look at an example with very different resolutions and WCS:"
   ]
  },
  {
   "cell_type": "code",
   "execution_count": null,
   "id": "satisfactory-settlement",
   "metadata": {},
   "outputs": [],
   "source": [
    "imviz = ImVizTwoPanel()\n",
    "imviz.load_data('jw01072001001_01101_00001_nrcb1_cal.fits')\n",
    "imviz.load_data('2mass_j.fits')\n",
    "\n",
    "imviz.app.data_collection.add_link(WCSLink(imviz.app.data_collection['jw01072001001_01101_00001_nrcb1_cal[SCI]'],\n",
    "                                           imviz.app.data_collection['2mass_j'] ))\n",
    "\n",
    "viewer1 = imviz.app.get_viewer('viewer-1')\n",
    "viewer1.add_data('jw01072001001_01101_00001_nrcb1_cal[SCI]')\n",
    "viewer1.state.show_axes = False\n",
    "viewer1.state.layers[0].percentile = 99\n",
    "\n",
    "viewer2 = imviz.app.get_viewer('viewer-2')\n",
    "viewer2.add_data('jw01072001001_01101_00001_nrcb1_cal[SCI]')\n",
    "viewer2.add_data('2mass_j')\n",
    "viewer2.state.show_axes = False\n",
    "viewer2.state.layers[0].visible = False\n",
    "viewer2.state.layers[1].percentile = 99\n",
    "viewer2.state.reference_data = imviz.app.data_collection['jw01072001001_01101_00001_nrcb1_cal[SCI]']\n",
    "\n",
    "imviz.app"
   ]
  },
  {
   "cell_type": "markdown",
   "id": "authentic-connection",
   "metadata": {},
   "source": [
    "## Overlaying data/transparency"
   ]
  },
  {
   "cell_type": "markdown",
   "id": "light-salmon",
   "metadata": {},
   "source": [
    "A build-in feature in glue-jupyter is the ability to fade between layers:"
   ]
  },
  {
   "cell_type": "code",
   "execution_count": null,
   "id": "relevant-distinction",
   "metadata": {
    "scrolled": false
   },
   "outputs": [],
   "source": [
    "imviz = ImViz()\n",
    "imviz.load_data('jw01072001001_01101_00001_nrcb1_cal.fits')\n",
    "imviz.load_data('jw01072001001_01101_00005_nrcb1_cal.fits')\n",
    "\n",
    "imviz.app.data_collection.add_link(WCSLink(imviz.app.data_collection['jw01072001001_01101_00001_nrcb1_cal[SCI]'],\n",
    "                                           imviz.app.data_collection['jw01072001001_01101_00005_nrcb1_cal[SCI]'] ))\n",
    "\n",
    "viewer1 = imviz.app.get_viewer('viewer-1')\n",
    "viewer1.add_data('jw01072001001_01101_00001_nrcb1_cal[SCI]')\n",
    "viewer1.add_data('jw01072001001_01101_00005_nrcb1_cal[SCI]')\n",
    "viewer1.state.show_axes = False\n",
    "viewer1.state.layers[0].percentile = 99\n",
    "viewer1.state.layers[1].percentile = 99\n",
    "\n",
    "imviz.app"
   ]
  },
  {
   "cell_type": "markdown",
   "id": "reserved-stamp",
   "metadata": {},
   "source": [
    "If you go to the layer options and select the second layer in the drop-down and play with the opacity slider you can fade between the two images."
   ]
  },
  {
   "cell_type": "markdown",
   "id": "moral-japanese",
   "metadata": {},
   "source": [
    "## Blinking\n",
    "\n",
    "A variation on the above example is that we can set up a button (or in future a keyboard shortcut) to blink between images:"
   ]
  },
  {
   "cell_type": "code",
   "execution_count": null,
   "id": "secondary-conservation",
   "metadata": {},
   "outputs": [],
   "source": [
    "imviz = ImViz()\n",
    "imviz.load_data('jw01072001001_01101_00001_nrcb1_cal.fits')\n",
    "imviz.load_data('jw01072001001_01101_00005_nrcb1_cal.fits')\n",
    "\n",
    "imviz.app.data_collection.add_link(WCSLink(imviz.app.data_collection['jw01072001001_01101_00001_nrcb1_cal[SCI]'],\n",
    "                                           imviz.app.data_collection['jw01072001001_01101_00005_nrcb1_cal[SCI]'] ))\n",
    "\n",
    "viewer = imviz.app.get_viewer('viewer-1')\n",
    "viewer.add_data('jw01072001001_01101_00001_nrcb1_cal[SCI]')\n",
    "viewer.add_data('jw01072001001_01101_00005_nrcb1_cal[SCI]')\n",
    "viewer.state.show_axes = False\n",
    "viewer.state.layers[0].percentile = 99\n",
    "viewer.state.layers[1].percentile = 99\n",
    "\n",
    "imviz.app"
   ]
  },
  {
   "cell_type": "markdown",
   "id": "liquid-confidence",
   "metadata": {},
   "source": [
    "If you press the 'b' key while your cursor is over the image, imviz will blink between the images."
   ]
  },
  {
   "cell_type": "markdown",
   "id": "local-selection",
   "metadata": {},
   "source": [
    "## Astropy regions\n",
    "\n",
    "It is already possible to make selections/regions in images and export these to astropy regions:"
   ]
  },
  {
   "cell_type": "code",
   "execution_count": null,
   "id": "alone-syracuse",
   "metadata": {},
   "outputs": [],
   "source": [
    "imviz = ImViz()\n",
    "imviz.load_data('jw01072001001_01101_00001_nrcb1_cal.fits')\n",
    "\n",
    "viewer = imviz.app.get_viewer('viewer-1')\n",
    "viewer.add_data('jw01072001001_01101_00001_nrcb1_cal[SCI]')\n",
    "viewer.state.show_axes = False\n",
    "viewer.state.layers[0].percentile = 99\n",
    "\n",
    "imviz.app"
   ]
  },
  {
   "cell_type": "markdown",
   "id": "incident-judges",
   "metadata": {},
   "source": [
    "Click on the viewer toolbar then click on the circular selection tool, and drag and click to select an interesting region on the sky. We can then export this region with:"
   ]
  },
  {
   "cell_type": "code",
   "execution_count": null,
   "id": "loose-disclaimer",
   "metadata": {},
   "outputs": [],
   "source": [
    "regions = imviz.app.get_subsets_from_viewer('viewer-1')"
   ]
  },
  {
   "cell_type": "code",
   "execution_count": null,
   "id": "thirty-writer",
   "metadata": {},
   "outputs": [],
   "source": [
    "regions"
   ]
  },
  {
   "cell_type": "markdown",
   "id": "turned-letters",
   "metadata": {},
   "source": [
    "Since the region is an astropy region, we can e.g. convert it to a mask:"
   ]
  },
  {
   "cell_type": "code",
   "execution_count": null,
   "id": "nutritional-mistress",
   "metadata": {},
   "outputs": [],
   "source": [
    "mask = regions['Subset 1'].to_mask(mode='subpixels')"
   ]
  },
  {
   "cell_type": "code",
   "execution_count": null,
   "id": "accomplished-glasgow",
   "metadata": {},
   "outputs": [],
   "source": [
    "plt.imshow(mask.to_image((2048, 2048)), origin='lower')"
   ]
  },
  {
   "cell_type": "markdown",
   "id": "fifty-penalty",
   "metadata": {},
   "source": [
    "## DS9 mode"
   ]
  },
  {
   "cell_type": "markdown",
   "id": "physical-survival",
   "metadata": {},
   "source": [
    "Do you want green circles wherever you click? If so, this section is for you!"
   ]
  },
  {
   "cell_type": "code",
   "execution_count": null,
   "id": "hundred-glucose",
   "metadata": {},
   "outputs": [],
   "source": [
    "imviz = ImViz()\n",
    "imviz.load_data('jw01072001001_01101_00001_nrcb1_cal.fits')\n",
    "\n",
    "viewer = imviz.app.get_viewer('viewer-1')\n",
    "viewer.add_data('jw01072001001_01101_00001_nrcb1_cal[SCI]')\n",
    "viewer.state.show_axes = False\n",
    "viewer.state.layers[0].percentile = 99"
   ]
  },
  {
   "cell_type": "code",
   "execution_count": null,
   "id": "judicial-subcommittee",
   "metadata": {},
   "outputs": [],
   "source": [
    "scatter = Scatter(marker='circle', colors=['green'],\n",
    "                  x=[], y=[],\n",
    "                  scales={'x': viewer.figure.axes[0].scale,\n",
    "                          'y': viewer.figure.axes[1].scale}, fill=False)\n",
    "viewer.figure.marks = viewer.figure.marks + [scatter]"
   ]
  },
  {
   "cell_type": "code",
   "execution_count": null,
   "id": "absolute-serve",
   "metadata": {},
   "outputs": [],
   "source": [
    "def on_click(data):\n",
    "    if data['event'] == 'click':\n",
    "        x = data['domain']['x']\n",
    "        y = data['domain']['y']\n",
    "        scatter.x = np.hstack([scatter.x, x])\n",
    "        scatter.y = np.hstack([scatter.y, y])\n",
    "\n",
    "viewer.add_event_callback(on_click)"
   ]
  },
  {
   "cell_type": "code",
   "execution_count": null,
   "id": "manual-singer",
   "metadata": {
    "scrolled": false
   },
   "outputs": [],
   "source": [
    "imviz.app"
   ]
  }
 ],
 "metadata": {
  "kernelspec": {
   "display_name": "Python 3",
   "language": "python",
   "name": "python3"
  },
  "language_info": {
   "codemirror_mode": {
    "name": "ipython",
    "version": 3
   },
   "file_extension": ".py",
   "mimetype": "text/x-python",
   "name": "python",
   "nbconvert_exporter": "python",
   "pygments_lexer": "ipython3",
   "version": "3.9.1"
  }
 },
 "nbformat": 4,
 "nbformat_minor": 5
}
